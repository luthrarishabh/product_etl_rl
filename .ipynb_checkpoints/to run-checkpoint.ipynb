{
 "cells": [
  {
   "cell_type": "code",
   "execution_count": 1,
   "metadata": {},
   "outputs": [],
   "source": [
    "from etl import Etl"
   ]
  },
  {
   "cell_type": "code",
   "execution_count": 2,
   "metadata": {},
   "outputs": [],
   "source": [
    "aws_access_key_id='XXXXX'\n",
    "aws_secret_access_key='XXXX'\n",
    "region_name = 'XXXX'\n",
    "bucket_name = 'XXXX'\n",
    "s3_folder = 'XXXX'\n",
    "local_dir ='XXXX'\n",
    "db_username='XXXX'\n",
    "db_password='XXXX'\n",
    "db_conn_string='XXXX'\n",
    "database='XXXX'\n",
    "lmt_table_name= 'XXXX'\n",
    "pmt_table_name = 'XXXX'"
   ]
  },
  {
   "cell_type": "code",
   "execution_count": 3,
   "metadata": {},
   "outputs": [],
   "source": [
    "etl = Etl(aws_access_key_id=aws_access_key_id,\n",
    "                    aws_secret_access_key=aws_secret_access_key,region_name = region_name,bucket_name = bucket_name,s3_folder = s3_folder,\n",
    "          local_dir =local_dir,\n",
    "         db_username=db_username,db_password=db_password,db_conn_string=db_conn_string,database=database,lmt_table_name=lmt_table_name,\n",
    "          pmt_table_name = pmt_table_name\n",
    "         )"
   ]
  },
  {
   "cell_type": "code",
   "execution_count": 6,
   "metadata": {},
   "outputs": [
    {
     "name": "stdout",
     "output_type": "stream",
     "text": [
      "Downloading files from s3\n",
      "Authenticating AWS Credentials\n",
      "Authenticated AWS Credentials\n",
      "Downloading files from bucket\n",
      "Files have been downloaded\n",
      "Downloaded files from s3\n",
      "Concatenating json files\n",
      "Concatenation done\n",
      "Creating a Landing table in MySQL \n",
      "Table lmt_products2 created successfully.\n",
      "Cleaning data\n",
      "Creating a Serving table in MySQL\n",
      "Table pmt_products2 created successfully.\n"
     ]
    }
   ],
   "source": [
    "df = etl.end_to_end()"
   ]
  },
  {
   "cell_type": "code",
   "execution_count": 4,
   "metadata": {},
   "outputs": [],
   "source": [
    "from etl import QueryProduct"
   ]
  },
  {
   "cell_type": "code",
   "execution_count": 5,
   "metadata": {},
   "outputs": [],
   "source": [
    "qp = QueryProduct(db_username=db_username,db_password=db_password,db_conn_string=db_conn_string,\n",
    "                  database=database,table_name = pmt_table_name)"
   ]
  },
  {
   "cell_type": "code",
   "execution_count": 6,
   "metadata": {},
   "outputs": [
    {
     "name": "stdout",
     "output_type": "stream",
     "text": [
      "CPU times: user 906 ms, sys: 247 ms, total: 1.15 s\n",
      "Wall time: 3.14 s\n"
     ]
    },
    {
     "data": {
      "text/html": [
       "<div>\n",
       "<style scoped>\n",
       "    .dataframe tbody tr th:only-of-type {\n",
       "        vertical-align: middle;\n",
       "    }\n",
       "\n",
       "    .dataframe tbody tr th {\n",
       "        vertical-align: top;\n",
       "    }\n",
       "\n",
       "    .dataframe thead th {\n",
       "        text-align: right;\n",
       "    }\n",
       "</style>\n",
       "<table border=\"1\" class=\"dataframe\">\n",
       "  <thead>\n",
       "    <tr style=\"text-align: right;\">\n",
       "      <th></th>\n",
       "      <th>index</th>\n",
       "      <th>upc</th>\n",
       "      <th>name</th>\n",
       "      <th>category</th>\n",
       "      <th>store_number</th>\n",
       "      <th>price</th>\n",
       "      <th>description</th>\n",
       "      <th>taxable</th>\n",
       "      <th>department</th>\n",
       "      <th>image</th>\n",
       "    </tr>\n",
       "  </thead>\n",
       "  <tbody>\n",
       "    <tr>\n",
       "      <th>0</th>\n",
       "      <td>3510439</td>\n",
       "      <td>1.000000e+13</td>\n",
       "      <td>subbrigade</td>\n",
       "      <td>Bath Tissue</td>\n",
       "      <td>1001.0</td>\n",
       "      <td>26.358854</td>\n",
       "      <td>trig tediosity Berenice restem</td>\n",
       "      <td>0</td>\n",
       "      <td>HBC-Vitamins</td>\n",
       "      <td>https://i.picsum.photos/id/20323/400/400.jpg</td>\n",
       "    </tr>\n",
       "    <tr>\n",
       "      <th>1</th>\n",
       "      <td>3688439</td>\n",
       "      <td>1.000000e+13</td>\n",
       "      <td>douse</td>\n",
       "      <td>Facial Tissue</td>\n",
       "      <td>1001.0</td>\n",
       "      <td>23.927672</td>\n",
       "      <td>postenteral believableness prealveolar autocol...</td>\n",
       "      <td>0</td>\n",
       "      <td>Deli Sub</td>\n",
       "      <td>https://i.picsum.photos/id/361801/400/400.jpg</td>\n",
       "    </tr>\n",
       "  </tbody>\n",
       "</table>\n",
       "</div>"
      ],
      "text/plain": [
       "     index           upc        name       category  store_number      price  \\\n",
       "0  3510439  1.000000e+13  subbrigade    Bath Tissue        1001.0  26.358854   \n",
       "1  3688439  1.000000e+13       douse  Facial Tissue        1001.0  23.927672   \n",
       "\n",
       "                                         description  taxable    department  \\\n",
       "0                     trig tediosity Berenice restem        0  HBC-Vitamins   \n",
       "1  postenteral believableness prealveolar autocol...        0      Deli Sub   \n",
       "\n",
       "                                           image  \n",
       "0   https://i.picsum.photos/id/20323/400/400.jpg  \n",
       "1  https://i.picsum.photos/id/361801/400/400.jpg  "
      ]
     },
     "execution_count": 6,
     "metadata": {},
     "output_type": "execute_result"
    }
   ],
   "source": [
    "%%time\n",
    "qp.get_product('10000001317500','1001')"
   ]
  },
  {
   "cell_type": "code",
   "execution_count": null,
   "metadata": {},
   "outputs": [],
   "source": []
  }
 ],
 "metadata": {
  "kernelspec": {
   "display_name": "Python 3",
   "language": "python",
   "name": "python3"
  },
  "language_info": {
   "codemirror_mode": {
    "name": "ipython",
    "version": 3
   },
   "file_extension": ".py",
   "mimetype": "text/x-python",
   "name": "python",
   "nbconvert_exporter": "python",
   "pygments_lexer": "ipython3",
   "version": "3.7.3"
  }
 },
 "nbformat": 4,
 "nbformat_minor": 2
}
